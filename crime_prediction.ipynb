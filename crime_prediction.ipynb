{
  "nbformat": 4,
  "nbformat_minor": 0,
  "metadata": {
    "colab": {
      "provenance": [],
      "authorship_tag": "ABX9TyP15zJ/wNFq+BcC8LFD6hKz",
      "include_colab_link": true
    },
    "kernelspec": {
      "name": "python3",
      "display_name": "Python 3"
    },
    "language_info": {
      "name": "python"
    }
  },
  "cells": [
    {
      "cell_type": "markdown",
      "metadata": {
        "id": "view-in-github",
        "colab_type": "text"
      },
      "source": [
        "<a href=\"https://colab.research.google.com/github/snsn3/Gen_AI_Crime_Prediction_Research_Article/blob/main/crime_prediction.ipynb\" target=\"_parent\"><img src=\"https://colab.research.google.com/assets/colab-badge.svg\" alt=\"Open In Colab\"/></a>"
      ]
    },
    {
      "cell_type": "code",
      "execution_count": null,
      "metadata": {
        "colab": {
          "base_uri": "https://localhost:8080/"
        },
        "id": "lzLIo3Skgex8",
        "outputId": "899de41e-3cbe-4078-b8cc-fe8ed31be18d"
      },
      "outputs": [
        {
          "output_type": "stream",
          "name": "stdout",
          "text": [
            "Requirement already satisfied: pandas in /usr/local/lib/python3.10/dist-packages (2.0.3)\n",
            "Requirement already satisfied: xgboost in /usr/local/lib/python3.10/dist-packages (2.0.3)\n",
            "Requirement already satisfied: scikit-learn in /usr/local/lib/python3.10/dist-packages (1.2.2)\n",
            "Requirement already satisfied: python-dateutil>=2.8.2 in /usr/local/lib/python3.10/dist-packages (from pandas) (2.8.2)\n",
            "Requirement already satisfied: pytz>=2020.1 in /usr/local/lib/python3.10/dist-packages (from pandas) (2023.4)\n",
            "Requirement already satisfied: tzdata>=2022.1 in /usr/local/lib/python3.10/dist-packages (from pandas) (2024.1)\n",
            "Requirement already satisfied: numpy>=1.21.0 in /usr/local/lib/python3.10/dist-packages (from pandas) (1.25.2)\n",
            "Requirement already satisfied: scipy in /usr/local/lib/python3.10/dist-packages (from xgboost) (1.11.4)\n",
            "Requirement already satisfied: joblib>=1.1.1 in /usr/local/lib/python3.10/dist-packages (from scikit-learn) (1.4.2)\n",
            "Requirement already satisfied: threadpoolctl>=2.0.0 in /usr/local/lib/python3.10/dist-packages (from scikit-learn) (3.5.0)\n",
            "Requirement already satisfied: six>=1.5 in /usr/local/lib/python3.10/dist-packages (from python-dateutil>=2.8.2->pandas) (1.16.0)\n"
          ]
        }
      ],
      "source": [
        "#install required libraries: we will use GB from SK Learn\n",
        "!pip install pandas scikit-learn"
      ]
    },
    {
      "cell_type": "code",
      "source": [
        "import pandas as pd\n",
        "from sklearn.preprocessing import OneHotEncoder, LabelEncoder\n",
        "from sklearn.model_selection import train_test_split\n",
        "from sklearn.ensemble import GradientBoostingClassifier\n",
        "from sklearn.metrics import accuracy_score"
      ],
      "metadata": {
        "id": "FAzQPpTKglQt"
      },
      "execution_count": null,
      "outputs": []
    },
    {
      "cell_type": "code",
      "source": [
        "# Load the training data\n",
        "#this training set was prepared by randomly extracting a representative sample from the main file \"Arrests and Strip Searches (RBDC-ARR-TBL-001), only for the year 2021\"\n",
        "train_df = pd.read_csv('training_set.csv')\n",
        "\n",
        "# Replace missing categories with 'Unknown or Legacy' - some entries were missing at the time of dowloading the dataset\n",
        "train_df['Occurrence_Category'] = train_df['Occurrence_Category'].fillna('Unknown or Legacy')\n",
        "\n",
        "# Split the data into features (X) and labels (y)\n",
        "X = train_df[['Occurrence_Category']]\n",
        "y = train_df['Perceived_Race']\n",
        "\n",
        "# One-hot encode the categorical features\n",
        "ohe = OneHotEncoder(handle_unknown='ignore')\n",
        "X_encoded = ohe.fit_transform(X)\n",
        "\n",
        "# Encode the categorical labels\n",
        "le = LabelEncoder()\n",
        "y_encoded = le.fit_transform(y)\n",
        "\n",
        "# Split the data into training and validation sets\n",
        "X_train, X_val, y_train, y_val = train_test_split(X_encoded, y_encoded, test_size=0.2, random_state=42)\n",
        "\n",
        "# Create a Gradient Boosting Classifier\n",
        "gbc = GradientBoostingClassifier()\n",
        "\n",
        "# Train the model on the training data\n",
        "gbc.fit(X_train, y_train)\n",
        "\n",
        "# Make predictions on the validation set\n",
        "y_pred = gbc.predict(X_val)\n",
        "\n",
        "# Evaluate the model's performance\n",
        "accuracy = accuracy_score(y_val, y_pred)\n",
        "print(f'Validation accuracy: {accuracy:.3f}')\n",
        "\n",
        "# Load the data to predict\n",
        "predict_df = pd.read_csv('empty_race_field_2021_ML.csv')\n",
        "\n",
        "# Replace missing categories with 'Unknown or Legacy'\n",
        "predict_df['Occurrence_Category'] = predict_df['Occurrence_Category'].fillna('Unknown or Legacy')\n",
        "\n",
        "# Ensure that unknown categories are replaced with 'Unknown or Legacy'\n",
        "known_categories = ohe.categories_[0]\n",
        "predict_df['Occurrence_Category'] = predict_df['Occurrence_Category'].apply(\n",
        "    lambda x: x if x in known_categories else 'Unknown or Legacy'\n",
        ")\n",
        "\n",
        "# One-hot encode the categorical features\n",
        "predict_encoded = ohe.transform(predict_df[['Occurrence_Category']])\n",
        "\n",
        "# Make predictions on the data\n",
        "predictions = gbc.predict(predict_encoded)\n",
        "\n",
        "# Decode the predictions to get the original labels (racial identities)\n",
        "predicted_labels = le.inverse_transform(predictions)\n",
        "\n",
        "# Fill the predicted labels into the existing empty column \"Perceived_Race\" - this was intentionally left blank in the file\n",
        "#users may simply choose to create it from scract, if not needing to create and manually leave a blank column - users' choice\n",
        "predict_df['Perceived_Race'] = predicted_labels\n",
        "\n",
        "# Save the updated DataFrame back to the same CSV file\n",
        " #(the file we transformed after download from T. Police website)\n",
        "predict_df.to_csv('ML_predicted_2021_test.csv', index=False)\n"
      ],
      "metadata": {
        "colab": {
          "base_uri": "https://localhost:8080/"
        },
        "id": "01resv_KgoaM",
        "outputId": "1e11eed5-4263-4a98-ae02-20a02dfd8b53"
      },
      "execution_count": null,
      "outputs": [
        {
          "output_type": "stream",
          "name": "stdout",
          "text": [
            "Validation accuracy: 0.172\n"
          ]
        }
      ]
    },
    {
      "cell_type": "markdown",
      "source": [
        "Visualizastion"
      ],
      "metadata": {
        "id": "xmtkddoakJFa"
      }
    },
    {
      "cell_type": "code",
      "source": [
        "df=pd.read_csv (\"ML_predicted_2021_test\")\n",
        "ml"
      ],
      "metadata": {
        "id": "eIsNrfXfEeXk"
      },
      "execution_count": null,
      "outputs": []
    }
  ]
}